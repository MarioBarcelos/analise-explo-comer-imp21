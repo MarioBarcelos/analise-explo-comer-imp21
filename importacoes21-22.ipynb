{
 "cells": [
  {
   "cell_type": "markdown",
   "id": "d33bfcc2",
   "metadata": {},
   "source": [
    "# Análise Exploratória no Ministério da Economia "
   ]
  },
  {
   "cell_type": "markdown",
   "id": "62b235f8",
   "metadata": {},
   "source": [
    "> Este projeto de Análise Exploratória de Dados tem como objetivo responder 05 perguntas de negócios sobre as Importações Brasileiras no primeiro semestre de 2021 e 2022, como fonte de estudos, utilizo dados extraídos do <a href=\"https://www.gov.br/produtividade-e-comercio-exterior/pt-br/assuntos/comercio-exterior/estatisticas/base-de-dados-bruta\">Ministério da Economia.</a>\n",
    "\n",
    "Após a conclusão deste projeto, podemos responder as seguintes perguntas de negócios:\n",
    "- 01 - Qual é o valor total das Importações no período?\n",
    "- 02 - Qual foi o custo das Importações por Estado?\n",
    "- 03 - Qual foi o custo das Importações por Municípios?\n",
    "- 04 - Quais são os principais Remetentes das Importações?\n",
    "- 05 - Quais são os Produtos com Maiores Importações?"
   ]
  },
  {
   "cell_type": "markdown",
   "id": "2f532aff",
   "metadata": {},
   "source": [
    "### Importando Bibliotecas e Pacotes"
   ]
  },
  {
   "cell_type": "code",
   "execution_count": 1,
   "id": "714e4504",
   "metadata": {},
   "outputs": [],
   "source": [
    "import numpy as np\n",
    "import pandas as pd\n",
    "import csv\n",
    "import json\n",
    "from sklearn.feature_extraction.text import CountVectorizer"
   ]
  },
  {
   "cell_type": "markdown",
   "id": "67c12fe2",
   "metadata": {},
   "source": [
    "### Acessando os dados (ref.2021)"
   ]
  },
  {
   "cell_type": "code",
   "execution_count": 2,
   "id": "2319ad13",
   "metadata": {
    "scrolled": false
   },
   "outputs": [
    {
     "name": "stderr",
     "output_type": "stream",
     "text": [
      "/tmp/ipykernel_113390/1956096061.py:3: DtypeWarning: Columns (0,1,2,3,5,6,7) have mixed types. Specify dtype option on import or set low_memory=False.\n",
      "  dadosi21 = pd.read_csv(imp_21, names = ['Ano', 'Mês', 'Produtos', 'País(orig)', 'Estado(dest)', 'Município(dest)', 'KG_Liq', 'Total_em_Dólar'], sep = ';', encoding=\"utf-8-sig\", low_memory=True)\n"
     ]
    }
   ],
   "source": [
    "#(0) Faço a importação do arquivo csv a ser analisado, (1) crio um DataFrame(df) renomeando as colunas já existentes (2)e visualizo o início.\n",
    "imp_21 = \"IMP_2021_MUN.csv\"\n",
    "dadosi21 = pd.read_csv(imp_21, names = ['Ano', 'Mês', 'Produtos', 'País(orig)', 'Estado(dest)', 'Município(dest)', 'KG_Liq', 'Total_em_Dólar'], sep = ';', encoding=\"utf-8-sig\", low_memory=True)"
   ]
  },
  {
   "cell_type": "markdown",
   "id": "810bf590",
   "metadata": {},
   "source": [
    "### Acessando os dados (ref.2022)"
   ]
  },
  {
   "cell_type": "code",
   "execution_count": 3,
   "id": "5b6b7eb7",
   "metadata": {
    "scrolled": false
   },
   "outputs": [
    {
     "name": "stderr",
     "output_type": "stream",
     "text": [
      "/tmp/ipykernel_113390/1510667406.py:3: DtypeWarning: Columns (0,1,2,3,5,6,7) have mixed types. Specify dtype option on import or set low_memory=False.\n",
      "  dadosi22 = pd.read_csv(imp_22, names = ['Ano', 'Mês', 'Produtos', 'País(orig)', 'Estado(dest)', 'Município(dest)', 'KG_Liq', 'Total_em_Dólar'], sep = ';', encoding=\"utf-8-sig\", low_memory=True)\n"
     ]
    }
   ],
   "source": [
    "#(0) Faço a importação do arquivo csv a ser analisado, (1) crio um DataFrame(df) renomeando as colunas já existentes (2)e visualizo o início.\n",
    "imp_22 = \"IMP_2022_MUN.csv\"\n",
    "dadosi22 = pd.read_csv(imp_22, names = ['Ano', 'Mês', 'Produtos', 'País(orig)', 'Estado(dest)', 'Município(dest)', 'KG_Liq', 'Total_em_Dólar'], sep = ';', encoding=\"utf-8-sig\", low_memory=True)"
   ]
  },
  {
   "cell_type": "markdown",
   "id": "7fe837d9",
   "metadata": {},
   "source": [
    "### Acessando as nomeclaturas originais"
   ]
  },
  {
   "cell_type": "code",
   "execution_count": 4,
   "id": "366c2a73",
   "metadata": {},
   "outputs": [],
   "source": [
    "# Realizando a leitura dos arquivos já convertidos e carregando em uma variável\n",
    "with open(\"meses.json\", \"r\") as jsonMes:\n",
    "    meses = json.loads(jsonMes.read())\n",
    "with open(\"produtos.json\", \"r\") as jsonProdutos:\n",
    "    produtos = json.loads(jsonProdutos.read())\n",
    "with open(\"paises.json\", \"r\") as jsonPais:\n",
    "    paises = json.loads(jsonPais.read())\n",
    "with open(\"estadosBr.json\", \"r\") as jsonEstados:\n",
    "    estados = json.loads(jsonEstados.read())\n",
    "with open(\"municipios.json\", \"r\") as jsonMun:\n",
    "    municipios = json.loads(jsonMun.read())"
   ]
  },
  {
   "cell_type": "markdown",
   "id": "2cafa373",
   "metadata": {},
   "source": [
    "### Limpeza e Tratamento dos Dados (ref.2021)"
   ]
  },
  {
   "cell_type": "code",
   "execution_count": 5,
   "id": "13e92125",
   "metadata": {},
   "outputs": [],
   "source": [
    "# Altero o tipo de dados das colunas para utilização com o map\n",
    "dadosi21[\"Mês\"] = dadosi21[\"Mês\"].astype('string')\n",
    "dadosi21[\"Produtos\"] = dadosi21[\"Produtos\"].astype('string')\n",
    "dadosi21[\"País(orig)\"] = dadosi21[\"País(orig)\"].astype('string')\n",
    "dadosi21[\"Estado(dest)\"] = dadosi21[\"Estado(dest)\"].astype('string')\n",
    "dadosi21[\"Município(dest)\"] = dadosi21[\"Município(dest)\"].astype('string')"
   ]
  },
  {
   "cell_type": "code",
   "execution_count": 6,
   "id": "13515553",
   "metadata": {},
   "outputs": [],
   "source": [
    "# Com a função drop removo a coluna \"ano\" - e a linha \"0\".\n",
    "dadosi21.drop([\"Ano\"], axis=1, inplace=True)\n",
    "dadosi21.drop([0], inplace=True)\n",
    "\n",
    "# Por fim faço a remoção de duplicatas e valores NA\n",
    "dadosi21 = dadosi21.drop_duplicates()\n",
    "dadosi21 = dadosi21.dropna()"
   ]
  },
  {
   "cell_type": "code",
   "execution_count": 7,
   "id": "b0625627",
   "metadata": {},
   "outputs": [],
   "source": [
    "# Renomeio todas as colunas abaixo utilizando como valor de saída as Nomeclaturas originais\n",
    "dadosi21[\"Mês\"] = dadosi21[\"Mês\"].map(meses,na_action='ignore')\n",
    "dadosi21[\"Produtos\"] = dadosi21[\"Produtos\"].map(produtos,na_action='ignore')\n",
    "dadosi21[\"País(orig)\"] = dadosi21[\"País(orig)\"].map(paises,na_action='ignore')\n",
    "dadosi21[\"Estado(dest)\"] = dadosi21[\"Estado(dest)\"].map(estados,na_action='ignore')\n",
    "dadosi21[\"Município(dest)\"] = dadosi21[\"Município(dest)\"].map(municipios,na_action='ignore')"
   ]
  },
  {
   "cell_type": "code",
   "execution_count": 8,
   "id": "5fdc1ae7",
   "metadata": {},
   "outputs": [],
   "source": [
    "# Seleciono o período a ser analisado com a função loc (Jan,Fev,Mar,Abril,Maio,Junho) \n",
    "dadosi21 = dadosi21.loc[dadosi21['Mês'].isin(['Janeiro','Fevereiro','Março',\n",
    "                                              'Abril','Maio','Junho'])]"
   ]
  },
  {
   "cell_type": "code",
   "execution_count": 9,
   "id": "51ca13b5",
   "metadata": {},
   "outputs": [],
   "source": [
    "# Incluo o 'index' do pandas como propriedade do DF e reordeno o DF\n",
    "dadosi21[\"Id_Compra\"] = dadosi21.index\n",
    "dadosi21 = dadosi21[['Id_Compra','Município(dest)','Estado(dest)','País(orig)','Produtos',\n",
    "                     'Total_em_Dólar','KG_Liq','Mês']]"
   ]
  },
  {
   "cell_type": "code",
   "execution_count": 10,
   "id": "a2a5d894",
   "metadata": {},
   "outputs": [
    {
     "data": {
      "text/html": [
       "<div>\n",
       "<style scoped>\n",
       "    .dataframe tbody tr th:only-of-type {\n",
       "        vertical-align: middle;\n",
       "    }\n",
       "\n",
       "    .dataframe tbody tr th {\n",
       "        vertical-align: top;\n",
       "    }\n",
       "\n",
       "    .dataframe thead th {\n",
       "        text-align: right;\n",
       "    }\n",
       "</style>\n",
       "<table border=\"1\" class=\"dataframe\">\n",
       "  <thead>\n",
       "    <tr style=\"text-align: right;\">\n",
       "      <th></th>\n",
       "      <th>Id_Compra</th>\n",
       "      <th>Município(dest)</th>\n",
       "      <th>Estado(dest)</th>\n",
       "      <th>País(orig)</th>\n",
       "      <th>Produtos</th>\n",
       "      <th>Total_em_Dólar</th>\n",
       "      <th>KG_Liq</th>\n",
       "      <th>Mês</th>\n",
       "    </tr>\n",
       "  </thead>\n",
       "  <tbody>\n",
       "    <tr>\n",
       "      <th>1</th>\n",
       "      <td>1</td>\n",
       "      <td>Osasco</td>\n",
       "      <td>São Paulo</td>\n",
       "      <td>México</td>\n",
       "      <td>Preparações capilares</td>\n",
       "      <td>7788</td>\n",
       "      <td>966</td>\n",
       "      <td>Março</td>\n",
       "    </tr>\n",
       "    <tr>\n",
       "      <th>14</th>\n",
       "      <td>14</td>\n",
       "      <td>Paranaguá</td>\n",
       "      <td>Paraná</td>\n",
       "      <td>Panamá</td>\n",
       "      <td>Bananas frescas ou secas</td>\n",
       "      <td>113</td>\n",
       "      <td>130</td>\n",
       "      <td>Janeiro</td>\n",
       "    </tr>\n",
       "    <tr>\n",
       "      <th>15</th>\n",
       "      <td>15</td>\n",
       "      <td>Vinhedo</td>\n",
       "      <td>São Paulo</td>\n",
       "      <td>México</td>\n",
       "      <td>Torneiras, válvulas (incluídas as redutoras de...</td>\n",
       "      <td>4824</td>\n",
       "      <td>79</td>\n",
       "      <td>Janeiro</td>\n",
       "    </tr>\n",
       "    <tr>\n",
       "      <th>18</th>\n",
       "      <td>18</td>\n",
       "      <td>Nova Europa</td>\n",
       "      <td>São Paulo</td>\n",
       "      <td>Gana</td>\n",
       "      <td>Açúcares de cana ou de beterraba e sacarose qu...</td>\n",
       "      <td>259610</td>\n",
       "      <td>1080000</td>\n",
       "      <td>Abril</td>\n",
       "    </tr>\n",
       "    <tr>\n",
       "      <th>19</th>\n",
       "      <td>19</td>\n",
       "      <td>São Luís</td>\n",
       "      <td>Maranhão</td>\n",
       "      <td>Grécia</td>\n",
       "      <td>Produtos de padaria, pastelaria ou da indústri...</td>\n",
       "      <td>95</td>\n",
       "      <td>125</td>\n",
       "      <td>Junho</td>\n",
       "    </tr>\n",
       "    <tr>\n",
       "      <th>...</th>\n",
       "      <td>...</td>\n",
       "      <td>...</td>\n",
       "      <td>...</td>\n",
       "      <td>...</td>\n",
       "      <td>...</td>\n",
       "      <td>...</td>\n",
       "      <td>...</td>\n",
       "      <td>...</td>\n",
       "    </tr>\n",
       "    <tr>\n",
       "      <th>1075517</th>\n",
       "      <td>1075517</td>\n",
       "      <td>Franca</td>\n",
       "      <td>São Paulo</td>\n",
       "      <td>Panamá</td>\n",
       "      <td>Outras obras de ferro ou aço</td>\n",
       "      <td>32</td>\n",
       "      <td>12</td>\n",
       "      <td>Março</td>\n",
       "    </tr>\n",
       "    <tr>\n",
       "      <th>1075518</th>\n",
       "      <td>1075518</td>\n",
       "      <td>Indaiatuba</td>\n",
       "      <td>São Paulo</td>\n",
       "      <td>Equador</td>\n",
       "      <td>Bulldozers, angledozers, niveladoras, raspo-tr...</td>\n",
       "      <td>365319</td>\n",
       "      <td>68730</td>\n",
       "      <td>Junho</td>\n",
       "    </tr>\n",
       "    <tr>\n",
       "      <th>1075519</th>\n",
       "      <td>1075519</td>\n",
       "      <td>Santos</td>\n",
       "      <td>São Paulo</td>\n",
       "      <td>Reino Unido</td>\n",
       "      <td>Doces, geleias, marmelades, purés e pastas de ...</td>\n",
       "      <td>76</td>\n",
       "      <td>4</td>\n",
       "      <td>Janeiro</td>\n",
       "    </tr>\n",
       "    <tr>\n",
       "      <th>1075520</th>\n",
       "      <td>1075520</td>\n",
       "      <td>Piracicaba</td>\n",
       "      <td>São Paulo</td>\n",
       "      <td>NaN</td>\n",
       "      <td>Outras obras de borracha vulcanizada não endur...</td>\n",
       "      <td>159</td>\n",
       "      <td>1</td>\n",
       "      <td>Fevereiro</td>\n",
       "    </tr>\n",
       "    <tr>\n",
       "      <th>1075521</th>\n",
       "      <td>1075521</td>\n",
       "      <td>Canoas</td>\n",
       "      <td>Rio Grande do Sul</td>\n",
       "      <td>NaN</td>\n",
       "      <td>Transformadores elétricos, conversores elétric...</td>\n",
       "      <td>1799031</td>\n",
       "      <td>181120</td>\n",
       "      <td>Março</td>\n",
       "    </tr>\n",
       "  </tbody>\n",
       "</table>\n",
       "<p>519419 rows × 8 columns</p>\n",
       "</div>"
      ],
      "text/plain": [
       "         Id_Compra Município(dest)       Estado(dest)   País(orig)  \\\n",
       "1                1          Osasco          São Paulo       México   \n",
       "14              14       Paranaguá             Paraná       Panamá   \n",
       "15              15         Vinhedo          São Paulo       México   \n",
       "18              18     Nova Europa          São Paulo         Gana   \n",
       "19              19        São Luís           Maranhão       Grécia   \n",
       "...            ...             ...                ...          ...   \n",
       "1075517    1075517          Franca          São Paulo       Panamá   \n",
       "1075518    1075518      Indaiatuba          São Paulo      Equador   \n",
       "1075519    1075519          Santos          São Paulo  Reino Unido   \n",
       "1075520    1075520      Piracicaba          São Paulo          NaN   \n",
       "1075521    1075521          Canoas  Rio Grande do Sul          NaN   \n",
       "\n",
       "                                                  Produtos Total_em_Dólar  \\\n",
       "1                                    Preparações capilares           7788   \n",
       "14                                Bananas frescas ou secas            113   \n",
       "15       Torneiras, válvulas (incluídas as redutoras de...           4824   \n",
       "18       Açúcares de cana ou de beterraba e sacarose qu...         259610   \n",
       "19       Produtos de padaria, pastelaria ou da indústri...             95   \n",
       "...                                                    ...            ...   \n",
       "1075517                       Outras obras de ferro ou aço             32   \n",
       "1075518  Bulldozers, angledozers, niveladoras, raspo-tr...         365319   \n",
       "1075519  Doces, geleias, marmelades, purés e pastas de ...             76   \n",
       "1075520  Outras obras de borracha vulcanizada não endur...            159   \n",
       "1075521  Transformadores elétricos, conversores elétric...        1799031   \n",
       "\n",
       "          KG_Liq        Mês  \n",
       "1            966      Março  \n",
       "14           130    Janeiro  \n",
       "15            79    Janeiro  \n",
       "18       1080000      Abril  \n",
       "19           125      Junho  \n",
       "...          ...        ...  \n",
       "1075517       12      Março  \n",
       "1075518    68730      Junho  \n",
       "1075519        4    Janeiro  \n",
       "1075520        1  Fevereiro  \n",
       "1075521   181120      Março  \n",
       "\n",
       "[519419 rows x 8 columns]"
      ]
     },
     "execution_count": 10,
     "metadata": {},
     "output_type": "execute_result"
    }
   ],
   "source": [
    "dadosi21"
   ]
  },
  {
   "cell_type": "markdown",
   "id": "1f0f23fc",
   "metadata": {},
   "source": [
    "### Limpeza e Tratamento dos Dados (ref.2022)"
   ]
  },
  {
   "cell_type": "code",
   "execution_count": 11,
   "id": "e3655e47",
   "metadata": {},
   "outputs": [],
   "source": [
    "# Altero o tipo de dados das colunas para utilização com o map\n",
    "dadosi22[\"Mês\"] = dadosi22[\"Mês\"].astype('string')\n",
    "dadosi22[\"Produtos\"] = dadosi22[\"Produtos\"].astype('string')\n",
    "dadosi22[\"País(orig)\"] = dadosi22[\"País(orig)\"].astype('string')\n",
    "dadosi22[\"Estado(dest)\"] = dadosi22[\"Estado(dest)\"].astype('string')\n",
    "dadosi22[\"Município(dest)\"] = dadosi22[\"Município(dest)\"].astype('string')"
   ]
  },
  {
   "cell_type": "code",
   "execution_count": 12,
   "id": "c7b0518a",
   "metadata": {},
   "outputs": [],
   "source": [
    "# Com a função drop removo a coluna \"ano\" e a linha \"0\".\n",
    "dadosi22.drop([\"Ano\"], axis=1, inplace=True)\n",
    "dadosi22.drop([0], inplace=True)\n",
    "\n",
    "# Por fim faço a remoção de duplicatas e valores NA\n",
    "dadosi22 = dadosi22.drop_duplicates()\n",
    "dadosi22 = dadosi22.dropna()"
   ]
  },
  {
   "cell_type": "code",
   "execution_count": 13,
   "id": "eb516f18",
   "metadata": {},
   "outputs": [],
   "source": [
    "# Renomeio todas as colunas abaixo utilizando como valor de saída as Nomeclaturas originais\n",
    "dadosi22[\"Mês\"] = dadosi22[\"Mês\"].map(meses,na_action='ignore')\n",
    "dadosi22[\"Produtos\"] = dadosi22[\"Produtos\"].map(produtos,na_action='ignore')\n",
    "dadosi22[\"País(orig)\"] = dadosi22[\"País(orig)\"].map(paises,na_action='ignore')\n",
    "dadosi22[\"Estado(dest)\"] = dadosi22[\"Estado(dest)\"].map(estados,na_action='ignore')\n",
    "dadosi22[\"Município(dest)\"] = dadosi22[\"Município(dest)\"].map(municipios,na_action='ignore')"
   ]
  },
  {
   "cell_type": "code",
   "execution_count": 14,
   "id": "61a7a669",
   "metadata": {},
   "outputs": [],
   "source": [
    "# Seleciono o período a ser analisado com a função loc (Jan,Fev,Mar,Abril,Maio,Junho) \n",
    "dadosi22 = dadosi22.loc[dadosi22['Mês'].isin(['Janeiro','Fevereiro','Março',\n",
    "                                              'Abril','Maio','Junho'])]"
   ]
  },
  {
   "cell_type": "code",
   "execution_count": 15,
   "id": "09483346",
   "metadata": {},
   "outputs": [],
   "source": [
    "# Incluo o 'index' do pandas como propriedade do DF e reordeno o DF\n",
    "dadosi22[\"Id_Compra\"] = dadosi22.index\n",
    "dadosi22 = dadosi22[['Id_Compra','Município(dest)','Estado(dest)','País(orig)','Produtos',\n",
    "                     'Total_em_Dólar','KG_Liq','Mês']]"
   ]
  },
  {
   "cell_type": "code",
   "execution_count": 16,
   "id": "cc2ff970",
   "metadata": {},
   "outputs": [
    {
     "data": {
      "text/html": [
       "<div>\n",
       "<style scoped>\n",
       "    .dataframe tbody tr th:only-of-type {\n",
       "        vertical-align: middle;\n",
       "    }\n",
       "\n",
       "    .dataframe tbody tr th {\n",
       "        vertical-align: top;\n",
       "    }\n",
       "\n",
       "    .dataframe thead th {\n",
       "        text-align: right;\n",
       "    }\n",
       "</style>\n",
       "<table border=\"1\" class=\"dataframe\">\n",
       "  <thead>\n",
       "    <tr style=\"text-align: right;\">\n",
       "      <th></th>\n",
       "      <th>Id_Compra</th>\n",
       "      <th>Município(dest)</th>\n",
       "      <th>Estado(dest)</th>\n",
       "      <th>País(orig)</th>\n",
       "      <th>Produtos</th>\n",
       "      <th>Total_em_Dólar</th>\n",
       "      <th>KG_Liq</th>\n",
       "      <th>Mês</th>\n",
       "    </tr>\n",
       "  </thead>\n",
       "  <tbody>\n",
       "    <tr>\n",
       "      <th>1</th>\n",
       "      <td>1</td>\n",
       "      <td>Ampére</td>\n",
       "      <td>Paraná</td>\n",
       "      <td>Uruguai</td>\n",
       "      <td>Outros móveis e suas partes</td>\n",
       "      <td>47615</td>\n",
       "      <td>53482</td>\n",
       "      <td>Abril</td>\n",
       "    </tr>\n",
       "    <tr>\n",
       "      <th>4</th>\n",
       "      <td>4</td>\n",
       "      <td>São José</td>\n",
       "      <td>Santa Catarina</td>\n",
       "      <td>Argentina</td>\n",
       "      <td>Camiseiros, blusas, blusas-camiseiros, de uso ...</td>\n",
       "      <td>6642</td>\n",
       "      <td>85</td>\n",
       "      <td>Janeiro</td>\n",
       "    </tr>\n",
       "    <tr>\n",
       "      <th>5</th>\n",
       "      <td>5</td>\n",
       "      <td>Jaraguá do Sul</td>\n",
       "      <td>Santa Catarina</td>\n",
       "      <td>Estados Unidos</td>\n",
       "      <td>Motores e geradores, elétricos, exceto os grup...</td>\n",
       "      <td>12155328</td>\n",
       "      <td>2942192</td>\n",
       "      <td>Fevereiro</td>\n",
       "    </tr>\n",
       "    <tr>\n",
       "      <th>7</th>\n",
       "      <td>7</td>\n",
       "      <td>Vitória</td>\n",
       "      <td>Espírito Santo</td>\n",
       "      <td>Bahamas</td>\n",
       "      <td>Leitelho, leite e nata coalhados, iogurte, kef...</td>\n",
       "      <td>100</td>\n",
       "      <td>32</td>\n",
       "      <td>Maio</td>\n",
       "    </tr>\n",
       "    <tr>\n",
       "      <th>11</th>\n",
       "      <td>11</td>\n",
       "      <td>Palhoça</td>\n",
       "      <td>Santa Catarina</td>\n",
       "      <td>Sérvia</td>\n",
       "      <td>Fatos de saia-casaco, conjuntos, casacos, vest...</td>\n",
       "      <td>1935</td>\n",
       "      <td>11</td>\n",
       "      <td>Junho</td>\n",
       "    </tr>\n",
       "    <tr>\n",
       "      <th>...</th>\n",
       "      <td>...</td>\n",
       "      <td>...</td>\n",
       "      <td>...</td>\n",
       "      <td>...</td>\n",
       "      <td>...</td>\n",
       "      <td>...</td>\n",
       "      <td>...</td>\n",
       "      <td>...</td>\n",
       "    </tr>\n",
       "    <tr>\n",
       "      <th>1087124</th>\n",
       "      <td>1087124</td>\n",
       "      <td>Itaboraí</td>\n",
       "      <td>Rio de Janeiro</td>\n",
       "      <td>Irlanda</td>\n",
       "      <td>Tintas e vernizes, à base de polímeros sintéti...</td>\n",
       "      <td>5496</td>\n",
       "      <td>1120</td>\n",
       "      <td>Fevereiro</td>\n",
       "    </tr>\n",
       "    <tr>\n",
       "      <th>1087125</th>\n",
       "      <td>1087125</td>\n",
       "      <td>Mogi Guaçu</td>\n",
       "      <td>São Paulo</td>\n",
       "      <td>NaN</td>\n",
       "      <td>Ladrilhos e placas (lajes), para pavimentação ...</td>\n",
       "      <td>8420</td>\n",
       "      <td>19354</td>\n",
       "      <td>Janeiro</td>\n",
       "    </tr>\n",
       "    <tr>\n",
       "      <th>1087126</th>\n",
       "      <td>1087126</td>\n",
       "      <td>Santa Maria de Jetibá</td>\n",
       "      <td>Espírito Santo</td>\n",
       "      <td>NaN</td>\n",
       "      <td>NaN</td>\n",
       "      <td>57701</td>\n",
       "      <td>62452</td>\n",
       "      <td>Junho</td>\n",
       "    </tr>\n",
       "    <tr>\n",
       "      <th>1087130</th>\n",
       "      <td>1087130</td>\n",
       "      <td>Santarém</td>\n",
       "      <td>Pará</td>\n",
       "      <td>Suíça</td>\n",
       "      <td>NaN</td>\n",
       "      <td>226</td>\n",
       "      <td>30</td>\n",
       "      <td>Janeiro</td>\n",
       "    </tr>\n",
       "    <tr>\n",
       "      <th>1087131</th>\n",
       "      <td>1087131</td>\n",
       "      <td>Sumaré</td>\n",
       "      <td>São Paulo</td>\n",
       "      <td>NaN</td>\n",
       "      <td>Aparelhos receptores para radiotelefonia, radi...</td>\n",
       "      <td>2246</td>\n",
       "      <td>7</td>\n",
       "      <td>Janeiro</td>\n",
       "    </tr>\n",
       "  </tbody>\n",
       "</table>\n",
       "<p>531598 rows × 8 columns</p>\n",
       "</div>"
      ],
      "text/plain": [
       "         Id_Compra        Município(dest)    Estado(dest)      País(orig)  \\\n",
       "1                1                 Ampére          Paraná         Uruguai   \n",
       "4                4               São José  Santa Catarina       Argentina   \n",
       "5                5         Jaraguá do Sul  Santa Catarina  Estados Unidos   \n",
       "7                7                Vitória  Espírito Santo         Bahamas   \n",
       "11              11                Palhoça  Santa Catarina          Sérvia   \n",
       "...            ...                    ...             ...             ...   \n",
       "1087124    1087124               Itaboraí  Rio de Janeiro         Irlanda   \n",
       "1087125    1087125             Mogi Guaçu       São Paulo             NaN   \n",
       "1087126    1087126  Santa Maria de Jetibá  Espírito Santo             NaN   \n",
       "1087130    1087130               Santarém            Pará           Suíça   \n",
       "1087131    1087131                 Sumaré       São Paulo             NaN   \n",
       "\n",
       "                                                  Produtos Total_em_Dólar  \\\n",
       "1                              Outros móveis e suas partes          47615   \n",
       "4        Camiseiros, blusas, blusas-camiseiros, de uso ...           6642   \n",
       "5        Motores e geradores, elétricos, exceto os grup...       12155328   \n",
       "7        Leitelho, leite e nata coalhados, iogurte, kef...            100   \n",
       "11       Fatos de saia-casaco, conjuntos, casacos, vest...           1935   \n",
       "...                                                    ...            ...   \n",
       "1087124  Tintas e vernizes, à base de polímeros sintéti...           5496   \n",
       "1087125  Ladrilhos e placas (lajes), para pavimentação ...           8420   \n",
       "1087126                                                NaN          57701   \n",
       "1087130                                                NaN            226   \n",
       "1087131  Aparelhos receptores para radiotelefonia, radi...           2246   \n",
       "\n",
       "          KG_Liq        Mês  \n",
       "1          53482      Abril  \n",
       "4             85    Janeiro  \n",
       "5        2942192  Fevereiro  \n",
       "7             32       Maio  \n",
       "11            11      Junho  \n",
       "...          ...        ...  \n",
       "1087124     1120  Fevereiro  \n",
       "1087125    19354    Janeiro  \n",
       "1087126    62452      Junho  \n",
       "1087130       30    Janeiro  \n",
       "1087131        7    Janeiro  \n",
       "\n",
       "[531598 rows x 8 columns]"
      ]
     },
     "execution_count": 16,
     "metadata": {},
     "output_type": "execute_result"
    }
   ],
   "source": [
    "dadosi22"
   ]
  },
  {
   "cell_type": "markdown",
   "id": "15e009d7",
   "metadata": {},
   "source": [
    "> # Iniciando a Análise Exploratória"
   ]
  },
  {
   "cell_type": "markdown",
   "id": "095fc032",
   "metadata": {},
   "source": [
    "### Qual é o valor total das Importações no período?"
   ]
  },
  {
   "cell_type": "markdown",
   "id": "53f818fa",
   "metadata": {},
   "source": [
    "Informações sobre o custo das Importações (Comercio Exterior -> Brasil) e o total de operações."
   ]
  },
  {
   "cell_type": "code",
   "execution_count": 17,
   "id": "ffe77311",
   "metadata": {
    "scrolled": true
   },
   "outputs": [],
   "source": [
    "# Altero o tipo das colunas que serão utilizadas\n",
    "dadosi21['Total_em_Dólar'] = dadosi21['Total_em_Dólar'].astype('int')\n",
    "dadosi22['Total_em_Dólar'] = dadosi22['Total_em_Dólar'].astype('int')"
   ]
  },
  {
   "cell_type": "code",
   "execution_count": 18,
   "id": "820d4a71",
   "metadata": {},
   "outputs": [],
   "source": [
    "# Calculando os valores das importações de 2021\n",
    "despesa_total21 = dadosi21[\"Total_em_Dólar\"].sum()\n",
    "despesa_count21 = dadosi21[\"Total_em_Dólar\"].count()\n",
    "despesa_media21 = dadosi21[\"Total_em_Dólar\"].mean()"
   ]
  },
  {
   "cell_type": "code",
   "execution_count": 19,
   "id": "48f34aaf",
   "metadata": {},
   "outputs": [],
   "source": [
    "# Calculando os valores das importações 2022\n",
    "despesa_total22 = dadosi22[\"Total_em_Dólar\"].sum()\n",
    "despesa_count22 = dadosi22[\"Total_em_Dólar\"].count()\n",
    "despesa_media22 = dadosi22[\"Total_em_Dólar\"].mean()"
   ]
  },
  {
   "cell_type": "code",
   "execution_count": 20,
   "id": "b8e779b8",
   "metadata": {},
   "outputs": [],
   "source": [
    "# Crio um dataframe utilizando o \"pandas\"\n",
    "despesas21e22 = pd.DataFrame({\"Ano_Base\": [\"2021\", \"2022\"],\n",
    "                            \"Total_de_Transacoes\": (despesa_count21, despesa_count22),\n",
    "                            \"Total_Investido_em_Importacoes\": (despesa_total21, despesa_total22),\n",
    "                            \"Valor_medio_das_Importacoes\": (despesa_media21, despesa_media22)})\n",
    "# Incluo uma coluna no meu DF com passando o 'Index'\n",
    "despesas21e22[\"Despesas21e22_id\"] = despesas21e22.index"
   ]
  },
  {
   "cell_type": "code",
   "execution_count": 21,
   "id": "b384961c",
   "metadata": {
    "scrolled": true
   },
   "outputs": [],
   "source": [
    "# Edito a formatação numérica das colunas \n",
    "despesas21e22 [\"Total_de_Transacoes\"] = despesas21e22[\"Total_de_Transacoes\"].map(\"{:,.0f}\".format)\n",
    "despesas21e22 [\"Total_Investido_em_Importacoes\"] = despesas21e22[\"Total_Investido_em_Importacoes\"].map(\"${:,.0f}\".format)\n",
    "despesas21e22 [\"Valor_medio_das_Importacoes\"] = despesas21e22[\"Valor_medio_das_Importacoes\"].map(\"${:,.0f}\".format)"
   ]
  },
  {
   "cell_type": "code",
   "execution_count": 22,
   "id": "6ac5333f",
   "metadata": {},
   "outputs": [],
   "source": [
    "# Faço uma 'Reordenação' do DF\n",
    "despesas21e22 = despesas21e22[['Despesas21e22_id','Ano_Base','Total_de_Transacoes',\n",
    "                               'Total_Investido_em_Importacoes','Valor_medio_das_Importacoes']]"
   ]
  },
  {
   "cell_type": "code",
   "execution_count": 23,
   "id": "d091e4f1",
   "metadata": {
    "scrolled": true
   },
   "outputs": [
    {
     "data": {
      "text/html": [
       "<div>\n",
       "<style scoped>\n",
       "    .dataframe tbody tr th:only-of-type {\n",
       "        vertical-align: middle;\n",
       "    }\n",
       "\n",
       "    .dataframe tbody tr th {\n",
       "        vertical-align: top;\n",
       "    }\n",
       "\n",
       "    .dataframe thead th {\n",
       "        text-align: right;\n",
       "    }\n",
       "</style>\n",
       "<table border=\"1\" class=\"dataframe\">\n",
       "  <thead>\n",
       "    <tr style=\"text-align: right;\">\n",
       "      <th></th>\n",
       "      <th>Despesas21e22_id</th>\n",
       "      <th>Ano_Base</th>\n",
       "      <th>Total_de_Transacoes</th>\n",
       "      <th>Total_Investido_em_Importacoes</th>\n",
       "      <th>Valor_medio_das_Importacoes</th>\n",
       "    </tr>\n",
       "  </thead>\n",
       "  <tbody>\n",
       "    <tr>\n",
       "      <th>0</th>\n",
       "      <td>0</td>\n",
       "      <td>2021</td>\n",
       "      <td>519,419</td>\n",
       "      <td>$136,176,666,325</td>\n",
       "      <td>$262,171</td>\n",
       "    </tr>\n",
       "    <tr>\n",
       "      <th>1</th>\n",
       "      <td>1</td>\n",
       "      <td>2022</td>\n",
       "      <td>531,598</td>\n",
       "      <td>$164,070,294,634</td>\n",
       "      <td>$308,636</td>\n",
       "    </tr>\n",
       "  </tbody>\n",
       "</table>\n",
       "</div>"
      ],
      "text/plain": [
       "   Despesas21e22_id Ano_Base Total_de_Transacoes  \\\n",
       "0                 0     2021             519,419   \n",
       "1                 1     2022             531,598   \n",
       "\n",
       "  Total_Investido_em_Importacoes Valor_medio_das_Importacoes  \n",
       "0               $136,176,666,325                    $262,171  \n",
       "1               $164,070,294,634                    $308,636  "
      ]
     },
     "execution_count": 23,
     "metadata": {},
     "output_type": "execute_result"
    }
   ],
   "source": [
    "despesas21e22"
   ]
  },
  {
   "cell_type": "markdown",
   "id": "ae5fe4e4",
   "metadata": {},
   "source": [
    "## Qual foi o custo das Importações por Estado?"
   ]
  },
  {
   "cell_type": "markdown",
   "id": "ec062629",
   "metadata": {},
   "source": [
    "Faço um resumo do custo das Importações por Estado, comparando os dois periódos."
   ]
  },
  {
   "cell_type": "markdown",
   "id": "cab70795",
   "metadata": {},
   "source": [
    "### Ano 2021"
   ]
  },
  {
   "cell_type": "code",
   "execution_count": 24,
   "id": "9026f1b3",
   "metadata": {
    "scrolled": true
   },
   "outputs": [],
   "source": [
    "# Inicio agrupando os valores/operações de cada estado e realizo os devidos calculos\n",
    "uf_total21 = dadosi21.groupby('Estado(dest)')['Total_em_Dólar'].sum()\n",
    "uf_media21 = dadosi21.groupby(\"Estado(dest)\")[\"Total_em_Dólar\"].mean()\n",
    "uf_operacoes21 = dadosi21.groupby(\"Estado(dest)\")[\"Total_em_Dólar\"].count()"
   ]
  },
  {
   "cell_type": "code",
   "execution_count": 25,
   "id": "c097a9bf",
   "metadata": {},
   "outputs": [],
   "source": [
    "# Crio um DataFrame para armazenar os Valores agrupados\n",
    "uf_analises21 = pd.DataFrame({\"Numero_de_Transacoes\" : uf_operacoes21,\n",
    "                              \"Valor_medio_das_Importacoes\" : uf_media21,\n",
    "                              \"Valor_total_das_Importacoes\" : uf_total21})\n",
    "\n",
    "#  Incluo uma coluna no meu DF com passando o 'Index'\n",
    "uf_analises21[\"Uf_analises21_id\"] = uf_analises21.index"
   ]
  },
  {
   "cell_type": "code",
   "execution_count": 26,
   "id": "c92dd642",
   "metadata": {
    "scrolled": true
   },
   "outputs": [],
   "source": [
    "# Edito a formatação numérica dos dados\n",
    "uf_analises21 = uf_analises21.round(2)\n",
    "uf_analises21 [\"Valor_medio_das_Importacoes\"] = uf_analises21[\"Valor_medio_das_Importacoes\"].map(\"${:,.2f}\".format)\n",
    "uf_analises21 [\"Valor_total_das_Importacoes\"] = uf_analises21[\"Valor_total_das_Importacoes\"].map(\"${:,.2f}\".format)"
   ]
  },
  {
   "cell_type": "code",
   "execution_count": 27,
   "id": "b49c9cd1",
   "metadata": {},
   "outputs": [],
   "source": [
    "# Faço uma 'Reordenação' do DF\n",
    "uf_analises21 = uf_analises21[['Uf_analises21_id','Numero_de_Transacoes','Valor_total_das_Importacoes',\n",
    "                               'Valor_medio_das_Importacoes']]"
   ]
  },
  {
   "cell_type": "markdown",
   "id": "79ad7cd7",
   "metadata": {},
   "source": [
    "### Ano 2022"
   ]
  },
  {
   "cell_type": "code",
   "execution_count": 28,
   "id": "16ee303d",
   "metadata": {},
   "outputs": [],
   "source": [
    "# Inicio agrupando os valores/operações de cada estado e realizo os devidos calculos\n",
    "uf_total22 = dadosi22.groupby('Estado(dest)')['Total_em_Dólar'].sum()\n",
    "uf_media22 = dadosi22.groupby(\"Estado(dest)\")[\"Total_em_Dólar\"].mean()\n",
    "uf_operacoes22 = dadosi22.groupby(\"Estado(dest)\")[\"Total_em_Dólar\"].count()"
   ]
  },
  {
   "cell_type": "code",
   "execution_count": 29,
   "id": "fd3d7bc3",
   "metadata": {},
   "outputs": [],
   "source": [
    "# Crio um DataFrame para armazenar os Valores agrupados\n",
    "uf_analises22 = pd.DataFrame({\"Numero_de_Transacoes\" : uf_operacoes22,\n",
    "                              \"Valor_medio_das_Importacoes\" : uf_media22,\n",
    "                              \"Valor_total_das_Importacoes\" : uf_total22})\n",
    "\n",
    "#  Incluo uma coluna no meu DF com passando o 'Index'\n",
    "uf_analises22[\"Uf_analises22_id\"] = uf_analises22.index"
   ]
  },
  {
   "cell_type": "code",
   "execution_count": 30,
   "id": "ee8eabb3",
   "metadata": {},
   "outputs": [],
   "source": [
    "# Edito a formatação numérica dos dados\n",
    "uf_analises22 = uf_analises22.round(2)\n",
    "uf_analises22 [\"Valor_medio_das_Importacoes\"] = uf_analises22[\"Valor_medio_das_Importacoes\"].map(\"${:,.2f}\".format)\n",
    "uf_analises22 [\"Valor_total_das_Importacoes\"] = uf_analises22[\"Valor_total_das_Importacoes\"].map(\"${:,.2f}\".format)"
   ]
  },
  {
   "cell_type": "code",
   "execution_count": 31,
   "id": "ece80dd4",
   "metadata": {},
   "outputs": [],
   "source": [
    "# Faço uma 'Reordenação' do DF\n",
    "uf_analises22 = uf_analises22[['Uf_analises22_id','Numero_de_Transacoes','Valor_total_das_Importacoes',\n",
    "                               'Valor_medio_das_Importacoes']]"
   ]
  },
  {
   "cell_type": "markdown",
   "id": "91a37879",
   "metadata": {},
   "source": [
    "##### Unifico as duas Análises por Estados"
   ]
  },
  {
   "cell_type": "code",
   "execution_count": 32,
   "id": "e11127e5",
   "metadata": {
    "scrolled": true
   },
   "outputs": [],
   "source": [
    "# Crio um novo DF 'concatenando' os dois períodos analizados \n",
    "uf_analises2122 = pd.concat([uf_analises21,uf_analises22],\n",
    "                             keys=['Ano_2021','Ano_2022'], axis=1)"
   ]
  },
  {
   "cell_type": "code",
   "execution_count": 33,
   "id": "cb0f013b",
   "metadata": {},
   "outputs": [],
   "source": [
    "# Incluo o 'Index' como propriedade do DF\n",
    "uf_analises2122[\"Uf_analises2122_id\"] = uf_analises2122.index\n",
    "\n",
    "# Reordeno a concatenação \n",
    "uf_analises2122 = uf_analises2122[['Uf_analises2122_id','Ano_2021','Ano_2022']]"
   ]
  },
  {
   "cell_type": "code",
   "execution_count": 34,
   "id": "1b59a38b",
   "metadata": {
    "scrolled": true
   },
   "outputs": [
    {
     "data": {
      "text/html": [
       "<div>\n",
       "<style scoped>\n",
       "    .dataframe tbody tr th:only-of-type {\n",
       "        vertical-align: middle;\n",
       "    }\n",
       "\n",
       "    .dataframe tbody tr th {\n",
       "        vertical-align: top;\n",
       "    }\n",
       "\n",
       "    .dataframe thead tr th {\n",
       "        text-align: left;\n",
       "    }\n",
       "\n",
       "    .dataframe thead tr:last-of-type th {\n",
       "        text-align: right;\n",
       "    }\n",
       "</style>\n",
       "<table border=\"1\" class=\"dataframe\">\n",
       "  <thead>\n",
       "    <tr>\n",
       "      <th></th>\n",
       "      <th>Uf_analises2122_id</th>\n",
       "      <th colspan=\"4\" halign=\"left\">Ano_2021</th>\n",
       "      <th colspan=\"4\" halign=\"left\">Ano_2022</th>\n",
       "    </tr>\n",
       "    <tr>\n",
       "      <th></th>\n",
       "      <th></th>\n",
       "      <th>Uf_analises21_id</th>\n",
       "      <th>Numero_de_Transacoes</th>\n",
       "      <th>Valor_total_das_Importacoes</th>\n",
       "      <th>Valor_medio_das_Importacoes</th>\n",
       "      <th>Uf_analises22_id</th>\n",
       "      <th>Numero_de_Transacoes</th>\n",
       "      <th>Valor_total_das_Importacoes</th>\n",
       "      <th>Valor_medio_das_Importacoes</th>\n",
       "    </tr>\n",
       "    <tr>\n",
       "      <th>Estado(dest)</th>\n",
       "      <th></th>\n",
       "      <th></th>\n",
       "      <th></th>\n",
       "      <th></th>\n",
       "      <th></th>\n",
       "      <th></th>\n",
       "      <th></th>\n",
       "      <th></th>\n",
       "      <th></th>\n",
       "    </tr>\n",
       "  </thead>\n",
       "  <tbody>\n",
       "    <tr>\n",
       "      <th>Tocantins</th>\n",
       "      <td>Tocantins</td>\n",
       "      <td>Tocantins</td>\n",
       "      <td>511</td>\n",
       "      <td>$997,439,221.00</td>\n",
       "      <td>$1,951,935.85</td>\n",
       "      <td>Tocantins</td>\n",
       "      <td>537</td>\n",
       "      <td>$1,542,635,858.00</td>\n",
       "      <td>$2,872,692.47</td>\n",
       "    </tr>\n",
       "    <tr>\n",
       "      <th>São Paulo</th>\n",
       "      <td>São Paulo</td>\n",
       "      <td>São Paulo</td>\n",
       "      <td>224443</td>\n",
       "      <td>$27,273,121,721.00</td>\n",
       "      <td>$121,514.69</td>\n",
       "      <td>São Paulo</td>\n",
       "      <td>229222</td>\n",
       "      <td>$35,632,117,825.00</td>\n",
       "      <td>$155,448.07</td>\n",
       "    </tr>\n",
       "    <tr>\n",
       "      <th>Sergipe</th>\n",
       "      <td>Sergipe</td>\n",
       "      <td>Sergipe</td>\n",
       "      <td>355</td>\n",
       "      <td>$26,427,825.00</td>\n",
       "      <td>$74,444.58</td>\n",
       "      <td>Sergipe</td>\n",
       "      <td>321</td>\n",
       "      <td>$48,796,708.00</td>\n",
       "      <td>$152,014.67</td>\n",
       "    </tr>\n",
       "    <tr>\n",
       "      <th>Santa Catarina</th>\n",
       "      <td>Santa Catarina</td>\n",
       "      <td>Santa Catarina</td>\n",
       "      <td>50223</td>\n",
       "      <td>$5,929,456,041.00</td>\n",
       "      <td>$118,062.56</td>\n",
       "      <td>Santa Catarina</td>\n",
       "      <td>52440</td>\n",
       "      <td>$6,849,123,439.00</td>\n",
       "      <td>$130,608.76</td>\n",
       "    </tr>\n",
       "    <tr>\n",
       "      <th>Roraima</th>\n",
       "      <td>Roraima</td>\n",
       "      <td>Roraima</td>\n",
       "      <td>1400</td>\n",
       "      <td>$137,208,957.00</td>\n",
       "      <td>$98,006.40</td>\n",
       "      <td>Roraima</td>\n",
       "      <td>1311</td>\n",
       "      <td>$216,758,243.00</td>\n",
       "      <td>$165,338.10</td>\n",
       "    </tr>\n",
       "  </tbody>\n",
       "</table>\n",
       "</div>"
      ],
      "text/plain": [
       "               Uf_analises2122_id         Ano_2021                       \\\n",
       "                                  Uf_analises21_id Numero_de_Transacoes   \n",
       "Estado(dest)                                                              \n",
       "Tocantins               Tocantins        Tocantins                  511   \n",
       "São Paulo               São Paulo        São Paulo               224443   \n",
       "Sergipe                   Sergipe          Sergipe                  355   \n",
       "Santa Catarina     Santa Catarina   Santa Catarina                50223   \n",
       "Roraima                   Roraima          Roraima                 1400   \n",
       "\n",
       "                                                                        \\\n",
       "               Valor_total_das_Importacoes Valor_medio_das_Importacoes   \n",
       "Estado(dest)                                                             \n",
       "Tocantins                  $997,439,221.00               $1,951,935.85   \n",
       "São Paulo               $27,273,121,721.00                 $121,514.69   \n",
       "Sergipe                     $26,427,825.00                  $74,444.58   \n",
       "Santa Catarina           $5,929,456,041.00                 $118,062.56   \n",
       "Roraima                    $137,208,957.00                  $98,006.40   \n",
       "\n",
       "                       Ano_2022                       \\\n",
       "               Uf_analises22_id Numero_de_Transacoes   \n",
       "Estado(dest)                                           \n",
       "Tocantins             Tocantins                  537   \n",
       "São Paulo             São Paulo               229222   \n",
       "Sergipe                 Sergipe                  321   \n",
       "Santa Catarina   Santa Catarina                52440   \n",
       "Roraima                 Roraima                 1311   \n",
       "\n",
       "                                                                        \n",
       "               Valor_total_das_Importacoes Valor_medio_das_Importacoes  \n",
       "Estado(dest)                                                            \n",
       "Tocantins                $1,542,635,858.00               $2,872,692.47  \n",
       "São Paulo               $35,632,117,825.00                 $155,448.07  \n",
       "Sergipe                     $48,796,708.00                 $152,014.67  \n",
       "Santa Catarina           $6,849,123,439.00                 $130,608.76  \n",
       "Roraima                    $216,758,243.00                 $165,338.10  "
      ]
     },
     "execution_count": 34,
     "metadata": {},
     "output_type": "execute_result"
    }
   ],
   "source": [
    "uf_analises2122.sort_values(by=\"Estado(dest)\", ascending=False).head()"
   ]
  },
  {
   "cell_type": "markdown",
   "id": "72277711",
   "metadata": {},
   "source": [
    "## Qual foi o custo das Importações por Municípios?"
   ]
  },
  {
   "cell_type": "markdown",
   "id": "dd316a7f",
   "metadata": {},
   "source": [
    "Detalhamento dos valores movimentados por Municípios no Período."
   ]
  },
  {
   "cell_type": "markdown",
   "id": "fe625762",
   "metadata": {},
   "source": [
    "### Ano 2021"
   ]
  },
  {
   "cell_type": "code",
   "execution_count": 35,
   "id": "b64367bb",
   "metadata": {},
   "outputs": [],
   "source": [
    "# Inicio agrupando os valores/operações de cada estado e realizo os devidos calculos\n",
    "mun_total21 = dadosi21.groupby(\"Município(dest)\")[\"Total_em_Dólar\"].sum()\n",
    "mun_media21 = dadosi21.groupby(\"Município(dest)\")[\"Total_em_Dólar\"].mean()\n",
    "mun_operacoes21 = dadosi21.groupby(\"Município(dest)\")[\"Total_em_Dólar\"].count()"
   ]
  },
  {
   "cell_type": "code",
   "execution_count": 36,
   "id": "3d6896b1",
   "metadata": {},
   "outputs": [],
   "source": [
    "# Criando um DataFrame dos Municípios com os valores agrupados\n",
    "mun_analises21 = pd.DataFrame({\"Numero_de_Compras_no_Exterior\" : mun_operacoes21,\n",
    "                               \"Valor_medio_das_Importacoes\" : mun_media21,\n",
    "                               \"Valor_total_das_Importacoes\" : mun_total21})\n",
    "\n",
    "\n",
    "#  Incluo uma coluna no meu DF com passando o 'Index'\n",
    "mun_analises21[\"Mun_analises21_id\"] = mun_analises21.index"
   ]
  },
  {
   "cell_type": "code",
   "execution_count": 37,
   "id": "90c09e22",
   "metadata": {},
   "outputs": [],
   "source": [
    "# Edito a formatação numérica dos dados\n",
    "mun_analises21 [\"Valor_total_das_Importacoes\"] = mun_analises21[\"Valor_total_das_Importacoes\"].map(\"${:,.0f}\".format)\n",
    "mun_analises21 [\"Valor_medio_das_Importacoes\"] = mun_analises21[\"Valor_medio_das_Importacoes\"].map(\"${:,.0f}\".format)"
   ]
  },
  {
   "cell_type": "code",
   "execution_count": 38,
   "id": "34e4603f",
   "metadata": {},
   "outputs": [],
   "source": [
    "# Faço uma 'Reordenação' do DF\n",
    "mun_analises21 = mun_analises21[[\"Mun_analises21_id\",\"Numero_de_Compras_no_Exterior\",\n",
    "                                 \"Valor_total_das_Importacoes\", \"Valor_medio_das_Importacoes\"]]"
   ]
  },
  {
   "cell_type": "code",
   "execution_count": 39,
   "id": "0298adfc",
   "metadata": {},
   "outputs": [
    {
     "data": {
      "text/html": [
       "<div>\n",
       "<style scoped>\n",
       "    .dataframe tbody tr th:only-of-type {\n",
       "        vertical-align: middle;\n",
       "    }\n",
       "\n",
       "    .dataframe tbody tr th {\n",
       "        vertical-align: top;\n",
       "    }\n",
       "\n",
       "    .dataframe thead th {\n",
       "        text-align: right;\n",
       "    }\n",
       "</style>\n",
       "<table border=\"1\" class=\"dataframe\">\n",
       "  <thead>\n",
       "    <tr style=\"text-align: right;\">\n",
       "      <th></th>\n",
       "      <th>Mun_analises21_id</th>\n",
       "      <th>Numero_de_Compras_no_Exterior</th>\n",
       "      <th>Valor_total_das_Importacoes</th>\n",
       "      <th>Valor_medio_das_Importacoes</th>\n",
       "    </tr>\n",
       "    <tr>\n",
       "      <th>Município(dest)</th>\n",
       "      <th></th>\n",
       "      <th></th>\n",
       "      <th></th>\n",
       "      <th></th>\n",
       "    </tr>\n",
       "  </thead>\n",
       "  <tbody>\n",
       "    <tr>\n",
       "      <th>Cuparaque</th>\n",
       "      <td>Cuparaque</td>\n",
       "      <td>2</td>\n",
       "      <td>$997</td>\n",
       "      <td>$498</td>\n",
       "    </tr>\n",
       "    <tr>\n",
       "      <th>Piracicaba</th>\n",
       "      <td>Piracicaba</td>\n",
       "      <td>4425</td>\n",
       "      <td>$996,598,997</td>\n",
       "      <td>$225,220</td>\n",
       "    </tr>\n",
       "    <tr>\n",
       "      <th>Manoel Urbano</th>\n",
       "      <td>Manoel Urbano</td>\n",
       "      <td>14</td>\n",
       "      <td>$996,575</td>\n",
       "      <td>$71,184</td>\n",
       "    </tr>\n",
       "    <tr>\n",
       "      <th>Pirapetinga</th>\n",
       "      <td>Pirapetinga</td>\n",
       "      <td>4</td>\n",
       "      <td>$994,197</td>\n",
       "      <td>$248,549</td>\n",
       "    </tr>\n",
       "    <tr>\n",
       "      <th>Morrinhos</th>\n",
       "      <td>Morrinhos</td>\n",
       "      <td>64</td>\n",
       "      <td>$993,663</td>\n",
       "      <td>$15,526</td>\n",
       "    </tr>\n",
       "  </tbody>\n",
       "</table>\n",
       "</div>"
      ],
      "text/plain": [
       "                Mun_analises21_id  Numero_de_Compras_no_Exterior  \\\n",
       "Município(dest)                                                    \n",
       "Cuparaque               Cuparaque                              2   \n",
       "Piracicaba             Piracicaba                           4425   \n",
       "Manoel Urbano       Manoel Urbano                             14   \n",
       "Pirapetinga           Pirapetinga                              4   \n",
       "Morrinhos               Morrinhos                             64   \n",
       "\n",
       "                Valor_total_das_Importacoes Valor_medio_das_Importacoes  \n",
       "Município(dest)                                                          \n",
       "Cuparaque                              $997                        $498  \n",
       "Piracicaba                     $996,598,997                    $225,220  \n",
       "Manoel Urbano                      $996,575                     $71,184  \n",
       "Pirapetinga                        $994,197                    $248,549  \n",
       "Morrinhos                          $993,663                     $15,526  "
      ]
     },
     "execution_count": 39,
     "metadata": {},
     "output_type": "execute_result"
    }
   ],
   "source": [
    "mun_analises21.sort_values(by=\"Valor_total_das_Importacoes\", ascending=False).head()"
   ]
  },
  {
   "cell_type": "markdown",
   "id": "504beed6",
   "metadata": {},
   "source": [
    "### Ano 2022"
   ]
  },
  {
   "cell_type": "code",
   "execution_count": 40,
   "id": "50fe59c9",
   "metadata": {},
   "outputs": [],
   "source": [
    "# Inicio agrupando os valores/operações de cada estado e realizo os devidos calculos\n",
    "mun_total22 = dadosi22.groupby(\"Município(dest)\")[\"Total_em_Dólar\"].sum()\n",
    "mun_media22 = dadosi22.groupby(\"Município(dest)\")[\"Total_em_Dólar\"].mean()\n",
    "mun_operacoes22 = dadosi22.groupby(\"Município(dest)\")[\"Total_em_Dólar\"].count()"
   ]
  },
  {
   "cell_type": "code",
   "execution_count": 41,
   "id": "b63f2897",
   "metadata": {},
   "outputs": [],
   "source": [
    "# Criando um DataFrame dos Municípios com os valores agrupados\n",
    "mun_analises22 = pd.DataFrame({\"Numero_de_Compras_no_Exterior\" : mun_operacoes22,\n",
    "                               \"Valor_medio_das_Importacoes\" : mun_media22,\n",
    "                               \"Valor_total_das_Importacoes\" : mun_total22})\n",
    "\n",
    "\n",
    "#  Incluo uma coluna no meu DF com passando o 'Index'\n",
    "mun_analises22[\"Mun_analises22_id\"] = mun_analises22.index"
   ]
  },
  {
   "cell_type": "code",
   "execution_count": 42,
   "id": "a0532301",
   "metadata": {},
   "outputs": [],
   "source": [
    "# Edito a formatação numérica dos dados\n",
    "mun_analises22 [\"Valor_total_das_Importacoes\"] = mun_analises22[\"Valor_total_das_Importacoes\"].map(\"${:,.0f}\".format)\n",
    "mun_analises22 [\"Valor_medio_das_Importacoes\"] = mun_analises22[\"Valor_medio_das_Importacoes\"].map(\"${:,.0f}\".format)"
   ]
  },
  {
   "cell_type": "code",
   "execution_count": 43,
   "id": "7b67e6ee",
   "metadata": {},
   "outputs": [],
   "source": [
    "# Faço uma 'Reordenação' do DF\n",
    "mun_analises22 = mun_analises22[[\"Mun_analises22_id\",\"Numero_de_Compras_no_Exterior\",\n",
    "                                 \"Valor_total_das_Importacoes\", \"Valor_medio_das_Importacoes\"]]"
   ]
  },
  {
   "cell_type": "code",
   "execution_count": 44,
   "id": "64a0cafe",
   "metadata": {},
   "outputs": [
    {
     "data": {
      "text/html": [
       "<div>\n",
       "<style scoped>\n",
       "    .dataframe tbody tr th:only-of-type {\n",
       "        vertical-align: middle;\n",
       "    }\n",
       "\n",
       "    .dataframe tbody tr th {\n",
       "        vertical-align: top;\n",
       "    }\n",
       "\n",
       "    .dataframe thead th {\n",
       "        text-align: right;\n",
       "    }\n",
       "</style>\n",
       "<table border=\"1\" class=\"dataframe\">\n",
       "  <thead>\n",
       "    <tr style=\"text-align: right;\">\n",
       "      <th></th>\n",
       "      <th>Mun_analises22_id</th>\n",
       "      <th>Numero_de_Compras_no_Exterior</th>\n",
       "      <th>Valor_total_das_Importacoes</th>\n",
       "      <th>Valor_medio_das_Importacoes</th>\n",
       "    </tr>\n",
       "    <tr>\n",
       "      <th>Município(dest)</th>\n",
       "      <th></th>\n",
       "      <th></th>\n",
       "      <th></th>\n",
       "      <th></th>\n",
       "    </tr>\n",
       "  </thead>\n",
       "  <tbody>\n",
       "    <tr>\n",
       "      <th>Dois Lajeados</th>\n",
       "      <td>Dois Lajeados</td>\n",
       "      <td>32</td>\n",
       "      <td>$998,890</td>\n",
       "      <td>$31,215</td>\n",
       "    </tr>\n",
       "    <tr>\n",
       "      <th>Tarumirim</th>\n",
       "      <td>Tarumirim</td>\n",
       "      <td>1</td>\n",
       "      <td>$998</td>\n",
       "      <td>$998</td>\n",
       "    </tr>\n",
       "    <tr>\n",
       "      <th>Terra Roxa</th>\n",
       "      <td>Terra Roxa</td>\n",
       "      <td>10</td>\n",
       "      <td>$996,302</td>\n",
       "      <td>$99,630</td>\n",
       "    </tr>\n",
       "    <tr>\n",
       "      <th>Ladainha</th>\n",
       "      <td>Ladainha</td>\n",
       "      <td>1</td>\n",
       "      <td>$993</td>\n",
       "      <td>$993</td>\n",
       "    </tr>\n",
       "    <tr>\n",
       "      <th>Corupá</th>\n",
       "      <td>Corupá</td>\n",
       "      <td>79</td>\n",
       "      <td>$991,459</td>\n",
       "      <td>$12,550</td>\n",
       "    </tr>\n",
       "  </tbody>\n",
       "</table>\n",
       "</div>"
      ],
      "text/plain": [
       "                Mun_analises22_id  Numero_de_Compras_no_Exterior  \\\n",
       "Município(dest)                                                    \n",
       "Dois Lajeados       Dois Lajeados                             32   \n",
       "Tarumirim               Tarumirim                              1   \n",
       "Terra Roxa             Terra Roxa                             10   \n",
       "Ladainha                 Ladainha                              1   \n",
       "Corupá                     Corupá                             79   \n",
       "\n",
       "                Valor_total_das_Importacoes Valor_medio_das_Importacoes  \n",
       "Município(dest)                                                          \n",
       "Dois Lajeados                      $998,890                     $31,215  \n",
       "Tarumirim                              $998                        $998  \n",
       "Terra Roxa                         $996,302                     $99,630  \n",
       "Ladainha                               $993                        $993  \n",
       "Corupá                             $991,459                     $12,550  "
      ]
     },
     "execution_count": 44,
     "metadata": {},
     "output_type": "execute_result"
    }
   ],
   "source": [
    "mun_analises22.sort_values(by=\"Valor_total_das_Importacoes\", ascending=False).head()"
   ]
  },
  {
   "cell_type": "markdown",
   "id": "bb84a232",
   "metadata": {},
   "source": [
    "## Quais são os principais Remetentes das Importações?"
   ]
  },
  {
   "cell_type": "markdown",
   "id": "a89a6e2a",
   "metadata": {},
   "source": [
    "Busco identificar os principais Paises com maiores exportações para o Brasil durante o Período."
   ]
  },
  {
   "cell_type": "markdown",
   "id": "399ec7af",
   "metadata": {},
   "source": [
    "### Ano 2021"
   ]
  },
  {
   "cell_type": "code",
   "execution_count": 46,
   "id": "efb433c4",
   "metadata": {},
   "outputs": [],
   "source": [
    "model_21 = dadosi21[\"País(orig)\"]\n",
    "model_21.index = range(0, 519419, 1)"
   ]
  },
  {
   "cell_type": "code",
   "execution_count": 47,
   "id": "b7da14d2",
   "metadata": {},
   "outputs": [
    {
     "data": {
      "text/plain": [
       "0              México\n",
       "1              Panamá\n",
       "2              México\n",
       "3                Gana\n",
       "4              Grécia\n",
       "             ...     \n",
       "519414         Panamá\n",
       "519415        Equador\n",
       "519416    Reino Unido\n",
       "519417            NaN\n",
       "519418            NaN\n",
       "Name: País(orig), Length: 519419, dtype: object"
      ]
     },
     "execution_count": 47,
     "metadata": {},
     "output_type": "execute_result"
    }
   ],
   "source": [
    "model_21"
   ]
  },
  {
   "cell_type": "code",
   "execution_count": 48,
   "id": "84582af4",
   "metadata": {},
   "outputs": [],
   "source": [
    "pais_21 = [str(i) for i in model_21]"
   ]
  },
  {
   "cell_type": "code",
   "execution_count": 49,
   "id": "acce34c4",
   "metadata": {},
   "outputs": [],
   "source": [
    "# Criando um vetor\n",
    "vetor_pais21 = CountVectorizer(analyzer = 'word', lowercase=False)"
   ]
  },
  {
   "cell_type": "code",
   "execution_count": 50,
   "id": "40040098",
   "metadata": {},
   "outputs": [],
   "source": [
    "# Vetorizando o dataset\n",
    "paises21 = vetor_pais21.fit_transform(pais_21)"
   ]
  },
  {
   "cell_type": "code",
   "execution_count": 51,
   "id": "018be1c1",
   "metadata": {},
   "outputs": [],
   "source": [
    "# Retornando paises únicos\n",
    "paises_unicos21 = vetor_pais21.get_feature_names_out()"
   ]
  },
  {
   "cell_type": "code",
   "execution_count": 52,
   "id": "3dc6a186",
   "metadata": {
    "scrolled": true
   },
   "outputs": [],
   "source": [
    "# Criar um novo DataFrame dos Paises\n",
    "dfpaises21 = pd.DataFrame(paises21.todense(), columns = paises_unicos21, index = model_21.index)"
   ]
  },
  {
   "cell_type": "code",
   "execution_count": 53,
   "id": "57c5657b",
   "metadata": {},
   "outputs": [],
   "source": [
    "# Calcular o percentual \n",
    "porcent_pais21 = 100 * pd.Series(dfpaises21.sum()).sort_values(ascending = False) / dfpaises21.shape[0]"
   ]
  },
  {
   "cell_type": "code",
   "execution_count": 54,
   "id": "c70e2f88",
   "metadata": {},
   "outputs": [],
   "source": [
    "# Faço a 'limpeza' de 'Dados' reconhecidos com 'nan'\n",
    "porcent_pais21.drop([\"nan\"], inplace=True)"
   ]
  },
  {
   "cell_type": "code",
   "execution_count": 55,
   "id": "c744a9c6",
   "metadata": {},
   "outputs": [],
   "source": [
    "# Crio um DF para melhor aproveitamento dos Dados\n",
    "porcentagem_pais21 = pd.DataFrame({'Porcentagem21':porcent_pais21})\n",
    "\n",
    "# Incluo o 'Index' como propriedade do DF\n",
    "porcentagem_pais21['Pais21_id'] = porcentagem_pais21.index\n",
    "\n",
    "# Reordeno o DF\n",
    "porcentagem_pais21 = porcentagem_pais21[['Pais21_id','Porcentagem21']]"
   ]
  },
  {
   "cell_type": "code",
   "execution_count": 56,
   "id": "329fabbf",
   "metadata": {},
   "outputs": [
    {
     "data": {
      "text/html": [
       "<div>\n",
       "<style scoped>\n",
       "    .dataframe tbody tr th:only-of-type {\n",
       "        vertical-align: middle;\n",
       "    }\n",
       "\n",
       "    .dataframe tbody tr th {\n",
       "        vertical-align: top;\n",
       "    }\n",
       "\n",
       "    .dataframe thead th {\n",
       "        text-align: right;\n",
       "    }\n",
       "</style>\n",
       "<table border=\"1\" class=\"dataframe\">\n",
       "  <thead>\n",
       "    <tr style=\"text-align: right;\">\n",
       "      <th></th>\n",
       "      <th>Pais21_id</th>\n",
       "      <th>Porcentagem21</th>\n",
       "    </tr>\n",
       "  </thead>\n",
       "  <tbody>\n",
       "    <tr>\n",
       "      <th>Unidos</th>\n",
       "      <td>Unidos</td>\n",
       "      <td>7.451980</td>\n",
       "    </tr>\n",
       "    <tr>\n",
       "      <th>Estados</th>\n",
       "      <td>Estados</td>\n",
       "      <td>6.694595</td>\n",
       "    </tr>\n",
       "    <tr>\n",
       "      <th>Paraguai</th>\n",
       "      <td>Paraguai</td>\n",
       "      <td>6.667835</td>\n",
       "    </tr>\n",
       "    <tr>\n",
       "      <th>Chile</th>\n",
       "      <td>Chile</td>\n",
       "      <td>4.582620</td>\n",
       "    </tr>\n",
       "    <tr>\n",
       "      <th>Uruguai</th>\n",
       "      <td>Uruguai</td>\n",
       "      <td>4.473075</td>\n",
       "    </tr>\n",
       "  </tbody>\n",
       "</table>\n",
       "</div>"
      ],
      "text/plain": [
       "         Pais21_id  Porcentagem21\n",
       "Unidos      Unidos       7.451980\n",
       "Estados    Estados       6.694595\n",
       "Paraguai  Paraguai       6.667835\n",
       "Chile        Chile       4.582620\n",
       "Uruguai    Uruguai       4.473075"
      ]
     },
     "execution_count": 56,
     "metadata": {},
     "output_type": "execute_result"
    }
   ],
   "source": [
    "porcentagem_pais21.head()"
   ]
  },
  {
   "cell_type": "markdown",
   "id": "acc4ac46",
   "metadata": {},
   "source": [
    "### Ano 2022"
   ]
  },
  {
   "cell_type": "code",
   "execution_count": 57,
   "id": "c9ee19b2",
   "metadata": {},
   "outputs": [],
   "source": [
    "model_22 = dadosi22[\"País(orig)\"]\n",
    "model_22.index = range(0, 531598, 1)"
   ]
  },
  {
   "cell_type": "code",
   "execution_count": 58,
   "id": "7930f15d",
   "metadata": {},
   "outputs": [
    {
     "data": {
      "text/plain": [
       "0                Uruguai\n",
       "1              Argentina\n",
       "2         Estados Unidos\n",
       "3                Bahamas\n",
       "4                 Sérvia\n",
       "               ...      \n",
       "531593           Irlanda\n",
       "531594               NaN\n",
       "531595               NaN\n",
       "531596             Suíça\n",
       "531597               NaN\n",
       "Name: País(orig), Length: 531598, dtype: object"
      ]
     },
     "execution_count": 58,
     "metadata": {},
     "output_type": "execute_result"
    }
   ],
   "source": [
    "model_22"
   ]
  },
  {
   "cell_type": "code",
   "execution_count": 59,
   "id": "fc7339b0",
   "metadata": {},
   "outputs": [],
   "source": [
    "pais_22 = [str(i) for i in model_22]"
   ]
  },
  {
   "cell_type": "code",
   "execution_count": 60,
   "id": "efb49118",
   "metadata": {},
   "outputs": [],
   "source": [
    "# Criando um vetor\n",
    "vetor_pais22 = CountVectorizer(analyzer = 'word', lowercase=False)"
   ]
  },
  {
   "cell_type": "code",
   "execution_count": 61,
   "id": "fbb3a944",
   "metadata": {},
   "outputs": [],
   "source": [
    "# Vetorizando o dataset\n",
    "paises22 = vetor_pais22.fit_transform(pais_22)"
   ]
  },
  {
   "cell_type": "code",
   "execution_count": 62,
   "id": "fe52ee3f",
   "metadata": {},
   "outputs": [],
   "source": [
    "# Retornando paises únicos\n",
    "paises_unicos22 = vetor_pais22.get_feature_names_out()"
   ]
  },
  {
   "cell_type": "code",
   "execution_count": 63,
   "id": "28c9a3af",
   "metadata": {},
   "outputs": [],
   "source": [
    "# Criar um novo DataFrame dos Paises\n",
    "dfpaises22 = pd.DataFrame(paises22.todense(), columns = paises_unicos22, index = model_22.index)"
   ]
  },
  {
   "cell_type": "code",
   "execution_count": 64,
   "id": "dbaaa170",
   "metadata": {},
   "outputs": [],
   "source": [
    "# Calcular o percentual \n",
    "porcent_pais22 = 100 * pd.Series(dfpaises22.sum()).sort_values(ascending = False) / dfpaises22.shape[0]"
   ]
  },
  {
   "cell_type": "code",
   "execution_count": 65,
   "id": "3487c5bf",
   "metadata": {},
   "outputs": [],
   "source": [
    "# Faço a 'limpeza' de 'Dados' reconhecidos com 'nan'\n",
    "porcent_pais22.drop([\"nan\"], inplace=True)"
   ]
  },
  {
   "cell_type": "code",
   "execution_count": 66,
   "id": "b22405ab",
   "metadata": {},
   "outputs": [],
   "source": [
    "# Crio um DF para melhor aproveitamento dos Dados\n",
    "porcentagem_pais22 = pd.DataFrame({'Porcentagem22':porcent_pais22})\n",
    "\n",
    "# Incluo o 'Index' como propriedade do DF\n",
    "porcentagem_pais22['Pais22_id'] = porcentagem_pais22.index\n",
    "\n",
    "# Reordeno o DF\n",
    "porcentagem_pais22 = porcentagem_pais22[['Pais22_id','Porcentagem22']]"
   ]
  },
  {
   "cell_type": "code",
   "execution_count": 67,
   "id": "7a5e9cdf",
   "metadata": {
    "scrolled": true
   },
   "outputs": [
    {
     "data": {
      "text/html": [
       "<div>\n",
       "<style scoped>\n",
       "    .dataframe tbody tr th:only-of-type {\n",
       "        vertical-align: middle;\n",
       "    }\n",
       "\n",
       "    .dataframe tbody tr th {\n",
       "        vertical-align: top;\n",
       "    }\n",
       "\n",
       "    .dataframe thead th {\n",
       "        text-align: right;\n",
       "    }\n",
       "</style>\n",
       "<table border=\"1\" class=\"dataframe\">\n",
       "  <thead>\n",
       "    <tr style=\"text-align: right;\">\n",
       "      <th></th>\n",
       "      <th>Pais22_id</th>\n",
       "      <th>Porcentagem22</th>\n",
       "    </tr>\n",
       "  </thead>\n",
       "  <tbody>\n",
       "    <tr>\n",
       "      <th>Unidos</th>\n",
       "      <td>Unidos</td>\n",
       "      <td>7.644310</td>\n",
       "    </tr>\n",
       "    <tr>\n",
       "      <th>Estados</th>\n",
       "      <td>Estados</td>\n",
       "      <td>6.924029</td>\n",
       "    </tr>\n",
       "    <tr>\n",
       "      <th>Paraguai</th>\n",
       "      <td>Paraguai</td>\n",
       "      <td>6.349723</td>\n",
       "    </tr>\n",
       "    <tr>\n",
       "      <th>Chile</th>\n",
       "      <td>Chile</td>\n",
       "      <td>4.614577</td>\n",
       "    </tr>\n",
       "    <tr>\n",
       "      <th>Uruguai</th>\n",
       "      <td>Uruguai</td>\n",
       "      <td>4.592756</td>\n",
       "    </tr>\n",
       "  </tbody>\n",
       "</table>\n",
       "</div>"
      ],
      "text/plain": [
       "         Pais22_id  Porcentagem22\n",
       "Unidos      Unidos       7.644310\n",
       "Estados    Estados       6.924029\n",
       "Paraguai  Paraguai       6.349723\n",
       "Chile        Chile       4.614577\n",
       "Uruguai    Uruguai       4.592756"
      ]
     },
     "execution_count": 67,
     "metadata": {},
     "output_type": "execute_result"
    }
   ],
   "source": [
    "# Um head dos 5 primeiros \n",
    "porcentagem_pais22.head()"
   ]
  },
  {
   "cell_type": "markdown",
   "id": "8c814970",
   "metadata": {},
   "source": [
    "## Quais são os Produtos com Maiores Importações?"
   ]
  },
  {
   "cell_type": "markdown",
   "id": "9b3eff41",
   "metadata": {},
   "source": [
    "Abaixo localizo os produtos mais requisitados por importadoras no Mercado Exterior."
   ]
  },
  {
   "cell_type": "markdown",
   "id": "0e118633",
   "metadata": {},
   "source": [
    "### Ano 2021"
   ]
  },
  {
   "cell_type": "code",
   "execution_count": 68,
   "id": "c067a7f5",
   "metadata": {
    "scrolled": true
   },
   "outputs": [],
   "source": [
    "# Agrupo os Produtos e realizo a sua Contagem, em seguida, Somo os Valores de todas as suas Compras\n",
    "produtos_contagem21 = dadosi21.groupby(\"Produtos\")[\"Total_em_Dólar\"].count()\n",
    "produtos_soma21 = dadosi21.groupby(\"Produtos\")[\"Total_em_Dólar\"].sum()"
   ]
  },
  {
   "cell_type": "code",
   "execution_count": 69,
   "id": "f795ec74",
   "metadata": {},
   "outputs": [],
   "source": [
    "# Crio um DF com os valores acima\n",
    "produtosunicos21 = pd.DataFrame({\"Quantidade_de_Importacoes\" : produtos_contagem21,\n",
    "                                 \"Valor_total_das_Importacoes\" : produtos_soma21})\n",
    "\n",
    "# Incluo o 'Index no meu DF'\n",
    "produtosunicos21['ProdutosUnicos21_id'] = produtosunicos21.index"
   ]
  },
  {
   "cell_type": "code",
   "execution_count": 70,
   "id": "34fb6e45",
   "metadata": {},
   "outputs": [],
   "source": [
    "# Faço uma pequena alteração na saída \n",
    "produtosunicos21[\"Valor_total_das_Importacoes\"] = produtosunicos21[\"Valor_total_das_Importacoes\"].map(\"${:,.0f}\".format)"
   ]
  },
  {
   "cell_type": "code",
   "execution_count": 71,
   "id": "6a6fb2e9",
   "metadata": {},
   "outputs": [],
   "source": [
    "# Reordeno as 'Colunas' do meu DF\n",
    "produtosunicos21 = produtosunicos21[['ProdutosUnicos21_id',\n",
    "                                     'Quantidade_de_Importacoes','Valor_total_das_Importacoes']]"
   ]
  },
  {
   "cell_type": "code",
   "execution_count": 72,
   "id": "e5f798e6",
   "metadata": {},
   "outputs": [
    {
     "data": {
      "text/html": [
       "<div>\n",
       "<style scoped>\n",
       "    .dataframe tbody tr th:only-of-type {\n",
       "        vertical-align: middle;\n",
       "    }\n",
       "\n",
       "    .dataframe tbody tr th {\n",
       "        vertical-align: top;\n",
       "    }\n",
       "\n",
       "    .dataframe thead th {\n",
       "        text-align: right;\n",
       "    }\n",
       "</style>\n",
       "<table border=\"1\" class=\"dataframe\">\n",
       "  <thead>\n",
       "    <tr style=\"text-align: right;\">\n",
       "      <th></th>\n",
       "      <th>ProdutosUnicos21_id</th>\n",
       "      <th>Quantidade_de_Importacoes</th>\n",
       "      <th>Valor_total_das_Importacoes</th>\n",
       "    </tr>\n",
       "    <tr>\n",
       "      <th>Produtos</th>\n",
       "      <th></th>\n",
       "      <th></th>\n",
       "      <th></th>\n",
       "    </tr>\n",
       "  </thead>\n",
       "  <tbody>\n",
       "    <tr>\n",
       "      <th>Abrasivos naturais ou artificiais, em pó ou em grãos, aplicados sobre matérias têxteis, papel, cartão ou outras matérias, mesmo recortados, costurados ou reunidos de outro modo</th>\n",
       "      <td>Abrasivos naturais ou artificiais, em pó ou em...</td>\n",
       "      <td>910</td>\n",
       "      <td>$17,494,808</td>\n",
       "    </tr>\n",
       "    <tr>\n",
       "      <th>Absorventes e tampões higiênicos, cueiros e fraldas para bebês e artigos higiênicos semelhantes, de qualquer matéria</th>\n",
       "      <td>Absorventes e tampões higiênicos, cueiros e fr...</td>\n",
       "      <td>275</td>\n",
       "      <td>$18,747,641</td>\n",
       "    </tr>\n",
       "    <tr>\n",
       "      <th>Acessórios para tubos (por exemplo, uniões, cotovelos, luvas), de alumínio</th>\n",
       "      <td>Acessórios para tubos (por exemplo, uniões, co...</td>\n",
       "      <td>355</td>\n",
       "      <td>$1,768,908</td>\n",
       "    </tr>\n",
       "    <tr>\n",
       "      <th>Acessórios para tubos [por exemplo: uniões, cotovelos, mangas (luvas)], de cobre</th>\n",
       "      <td>Acessórios para tubos [por exemplo: uniões, co...</td>\n",
       "      <td>783</td>\n",
       "      <td>$2,055,136</td>\n",
       "    </tr>\n",
       "    <tr>\n",
       "      <th>Acessórios para tubos [por exemplo: uniões, cotovelos, mangas (luvas)], de ferro fundido, ferro ou aço</th>\n",
       "      <td>Acessórios para tubos [por exemplo: uniões, co...</td>\n",
       "      <td>1982</td>\n",
       "      <td>$35,711,921</td>\n",
       "    </tr>\n",
       "  </tbody>\n",
       "</table>\n",
       "</div>"
      ],
      "text/plain": [
       "                                                                                  ProdutosUnicos21_id  \\\n",
       "Produtos                                                                                                \n",
       "Abrasivos naturais ou artificiais, em pó ou em ...  Abrasivos naturais ou artificiais, em pó ou em...   \n",
       "Absorventes e tampões higiênicos, cueiros e fra...  Absorventes e tampões higiênicos, cueiros e fr...   \n",
       "Acessórios para tubos (por exemplo, uniões, cot...  Acessórios para tubos (por exemplo, uniões, co...   \n",
       "Acessórios para tubos [por exemplo: uniões, cot...  Acessórios para tubos [por exemplo: uniões, co...   \n",
       "Acessórios para tubos [por exemplo: uniões, cot...  Acessórios para tubos [por exemplo: uniões, co...   \n",
       "\n",
       "                                                    Quantidade_de_Importacoes  \\\n",
       "Produtos                                                                        \n",
       "Abrasivos naturais ou artificiais, em pó ou em ...                        910   \n",
       "Absorventes e tampões higiênicos, cueiros e fra...                        275   \n",
       "Acessórios para tubos (por exemplo, uniões, cot...                        355   \n",
       "Acessórios para tubos [por exemplo: uniões, cot...                        783   \n",
       "Acessórios para tubos [por exemplo: uniões, cot...                       1982   \n",
       "\n",
       "                                                   Valor_total_das_Importacoes  \n",
       "Produtos                                                                        \n",
       "Abrasivos naturais ou artificiais, em pó ou em ...                 $17,494,808  \n",
       "Absorventes e tampões higiênicos, cueiros e fra...                 $18,747,641  \n",
       "Acessórios para tubos (por exemplo, uniões, cot...                  $1,768,908  \n",
       "Acessórios para tubos [por exemplo: uniões, cot...                  $2,055,136  \n",
       "Acessórios para tubos [por exemplo: uniões, cot...                 $35,711,921  "
      ]
     },
     "execution_count": 72,
     "metadata": {},
     "output_type": "execute_result"
    }
   ],
   "source": [
    "produtosunicos21.head()"
   ]
  },
  {
   "cell_type": "markdown",
   "id": "b7ea21a0",
   "metadata": {},
   "source": [
    "### Ano 2022"
   ]
  },
  {
   "cell_type": "code",
   "execution_count": 73,
   "id": "603e9989",
   "metadata": {},
   "outputs": [],
   "source": [
    "# Agrupo os Produtos e realizo a sua Contagem, em seguida, Somo os Valores de todas as suas Compras\n",
    "produtos_contagem22 = dadosi22.groupby(\"Produtos\")[\"Total_em_Dólar\"].count()\n",
    "produtos_soma22 = dadosi22.groupby(\"Produtos\")[\"Total_em_Dólar\"].sum()"
   ]
  },
  {
   "cell_type": "code",
   "execution_count": 74,
   "id": "c8eeb4b7",
   "metadata": {},
   "outputs": [],
   "source": [
    "# Crio um DF com os valores acima\n",
    "produtosunicos22 = pd.DataFrame({\"Quantidade_de_Importacoes\" : produtos_contagem22,\n",
    "                                 \"Valor_total_das_Importacoes\" : produtos_soma22})\n",
    "\n",
    "# Incluo o 'Index no meu DF'\n",
    "produtosunicos22['ProdutosUnicos22_id'] = produtosunicos22.index"
   ]
  },
  {
   "cell_type": "code",
   "execution_count": 75,
   "id": "aa97426f",
   "metadata": {},
   "outputs": [],
   "source": [
    "# Faço uma pequena alteração na saída \n",
    "produtosunicos22[\"Valor_total_das_Importações\"] = produtosunicos22[\"Valor_total_das_Importacoes\"].map(\"${:,.0f}\".format)"
   ]
  },
  {
   "cell_type": "code",
   "execution_count": 76,
   "id": "f2f6f870",
   "metadata": {},
   "outputs": [],
   "source": [
    "# Reordeno as 'Colunas' do meu DF\n",
    "produtosunicos22 = produtosunicos22[['ProdutosUnicos22_id',\n",
    "                                     'Quantidade_de_Importacoes','Valor_total_das_Importacoes']]"
   ]
  },
  {
   "cell_type": "code",
   "execution_count": 77,
   "id": "ae2c4da6",
   "metadata": {
    "scrolled": false
   },
   "outputs": [
    {
     "data": {
      "text/html": [
       "<div>\n",
       "<style scoped>\n",
       "    .dataframe tbody tr th:only-of-type {\n",
       "        vertical-align: middle;\n",
       "    }\n",
       "\n",
       "    .dataframe tbody tr th {\n",
       "        vertical-align: top;\n",
       "    }\n",
       "\n",
       "    .dataframe thead th {\n",
       "        text-align: right;\n",
       "    }\n",
       "</style>\n",
       "<table border=\"1\" class=\"dataframe\">\n",
       "  <thead>\n",
       "    <tr style=\"text-align: right;\">\n",
       "      <th></th>\n",
       "      <th>ProdutosUnicos22_id</th>\n",
       "      <th>Quantidade_de_Importacoes</th>\n",
       "      <th>Valor_total_das_Importacoes</th>\n",
       "    </tr>\n",
       "    <tr>\n",
       "      <th>Produtos</th>\n",
       "      <th></th>\n",
       "      <th></th>\n",
       "      <th></th>\n",
       "    </tr>\n",
       "  </thead>\n",
       "  <tbody>\n",
       "    <tr>\n",
       "      <th>Abrasivos naturais ou artificiais, em pó ou em grãos, aplicados sobre matérias têxteis, papel, cartão ou outras matérias, mesmo recortados, costurados ou reunidos de outro modo</th>\n",
       "      <td>Abrasivos naturais ou artificiais, em pó ou em...</td>\n",
       "      <td>936</td>\n",
       "      <td>18927637</td>\n",
       "    </tr>\n",
       "    <tr>\n",
       "      <th>Absorventes e tampões higiênicos, cueiros e fraldas para bebês e artigos higiênicos semelhantes, de qualquer matéria</th>\n",
       "      <td>Absorventes e tampões higiênicos, cueiros e fr...</td>\n",
       "      <td>272</td>\n",
       "      <td>22950485</td>\n",
       "    </tr>\n",
       "    <tr>\n",
       "      <th>Acessórios para tubos (por exemplo, uniões, cotovelos, luvas), de alumínio</th>\n",
       "      <td>Acessórios para tubos (por exemplo, uniões, co...</td>\n",
       "      <td>386</td>\n",
       "      <td>2371757</td>\n",
       "    </tr>\n",
       "    <tr>\n",
       "      <th>Acessórios para tubos [por exemplo: uniões, cotovelos, mangas (luvas)], de cobre</th>\n",
       "      <td>Acessórios para tubos [por exemplo: uniões, co...</td>\n",
       "      <td>867</td>\n",
       "      <td>2673341</td>\n",
       "    </tr>\n",
       "    <tr>\n",
       "      <th>Acessórios para tubos [por exemplo: uniões, cotovelos, mangas (luvas)], de ferro fundido, ferro ou aço</th>\n",
       "      <td>Acessórios para tubos [por exemplo: uniões, co...</td>\n",
       "      <td>2060</td>\n",
       "      <td>56682379</td>\n",
       "    </tr>\n",
       "  </tbody>\n",
       "</table>\n",
       "</div>"
      ],
      "text/plain": [
       "                                                                                  ProdutosUnicos22_id  \\\n",
       "Produtos                                                                                                \n",
       "Abrasivos naturais ou artificiais, em pó ou em ...  Abrasivos naturais ou artificiais, em pó ou em...   \n",
       "Absorventes e tampões higiênicos, cueiros e fra...  Absorventes e tampões higiênicos, cueiros e fr...   \n",
       "Acessórios para tubos (por exemplo, uniões, cot...  Acessórios para tubos (por exemplo, uniões, co...   \n",
       "Acessórios para tubos [por exemplo: uniões, cot...  Acessórios para tubos [por exemplo: uniões, co...   \n",
       "Acessórios para tubos [por exemplo: uniões, cot...  Acessórios para tubos [por exemplo: uniões, co...   \n",
       "\n",
       "                                                    Quantidade_de_Importacoes  \\\n",
       "Produtos                                                                        \n",
       "Abrasivos naturais ou artificiais, em pó ou em ...                        936   \n",
       "Absorventes e tampões higiênicos, cueiros e fra...                        272   \n",
       "Acessórios para tubos (por exemplo, uniões, cot...                        386   \n",
       "Acessórios para tubos [por exemplo: uniões, cot...                        867   \n",
       "Acessórios para tubos [por exemplo: uniões, cot...                       2060   \n",
       "\n",
       "                                                    Valor_total_das_Importacoes  \n",
       "Produtos                                                                         \n",
       "Abrasivos naturais ou artificiais, em pó ou em ...                     18927637  \n",
       "Absorventes e tampões higiênicos, cueiros e fra...                     22950485  \n",
       "Acessórios para tubos (por exemplo, uniões, cot...                      2371757  \n",
       "Acessórios para tubos [por exemplo: uniões, cot...                      2673341  \n",
       "Acessórios para tubos [por exemplo: uniões, cot...                     56682379  "
      ]
     },
     "execution_count": 77,
     "metadata": {},
     "output_type": "execute_result"
    }
   ],
   "source": [
    "produtosunicos22.head()"
   ]
  },
  {
   "cell_type": "markdown",
   "id": "b02f0ae7",
   "metadata": {},
   "source": [
    "#### Feito por mim, <a href=\"https://linkedin.com/in/mario-barcelos\"> Mario Barcelos! </a> "
   ]
  }
 ],
 "metadata": {
  "kernelspec": {
   "display_name": "Python 3 (ipykernel)",
   "language": "python",
   "name": "python3"
  },
  "language_info": {
   "codemirror_mode": {
    "name": "ipython",
    "version": 3
   },
   "file_extension": ".py",
   "mimetype": "text/x-python",
   "name": "python",
   "nbconvert_exporter": "python",
   "pygments_lexer": "ipython3",
   "version": "3.10.6"
  }
 },
 "nbformat": 4,
 "nbformat_minor": 5
}
